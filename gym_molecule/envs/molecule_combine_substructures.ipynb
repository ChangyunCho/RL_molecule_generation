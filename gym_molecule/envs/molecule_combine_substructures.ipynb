{
 "cells": [
  {
   "cell_type": "code",
   "execution_count": 1,
   "metadata": {},
   "outputs": [],
   "source": [
    "from rdkit import Chem\n",
    "from rdkit.Chem import AllChem\n",
    "from rdkit.Chem.Draw import IPythonConsole\n",
    "from rdkit.Chem.Draw import MolDrawing, DrawingOptions"
   ]
  },
  {
   "cell_type": "code",
   "execution_count": 2,
   "metadata": {},
   "outputs": [],
   "source": [
    "def add_bond_between_substructures(mol_1, mol_2, begin_atom_idx, end_atom_idx, bond_type):\n",
    "    \"\"\"\n",
    "    Given two rdkit mol objects, begin and end atom indices of the new bond, the bond type, returns a new mol object\n",
    "    that has the corresponding bond added. Note that the atom indices are based on the combined mol object, see below\n",
    "    MUST PERFORM VALENCY CHECK AFTERWARDS\n",
    "    :param mol_1:\n",
    "    :param mol_2:\n",
    "    :param begin_atom_idx:\n",
    "    :param end_atom_idx:\n",
    "    :param bond_type:\n",
    "    :return: rdkit mol object\n",
    "    \"\"\"\n",
    "    combined = Chem.CombineMols(mol_1, mol_2)\n",
    "    rw_combined = Chem.RWMol(combined)\n",
    "    \n",
    "    # check that we have an atom index from each substructure\n",
    "    grouped_atom_indices_combined = Chem.GetMolFrags(rw_combined)\n",
    "    substructure_1_indices, substructure_2_indices = grouped_atom_indices_combined\n",
    "    if begin_atom_idx in substructure_1_indices:\n",
    "        if not end_atom_idx in substructure_2_indices:\n",
    "            raise ValueError('Invalid atom indices')\n",
    "    elif end_atom_idx in substructure_1_indices:\n",
    "        if not begin_atom_idx in substructure_2_indices:\n",
    "            raise ValueError('Invalid atom indices')\n",
    "    else:\n",
    "        raise ValueError('Invalid atom indices')\n",
    "        \n",
    "    rw_combined.AddBond(begin_atom_idx, end_atom_idx, bond_type)\n",
    "\n",
    "    return rw_combined.GetMol()"
   ]
  },
  {
   "cell_type": "code",
   "execution_count": null,
   "metadata": {},
   "outputs": [],
   "source": []
  }
 ],
 "metadata": {
  "kernelspec": {
   "display_name": "molgen_rl",
   "language": "python",
   "name": "molgen"
  },
  "language_info": {
   "codemirror_mode": {
    "name": "ipython",
    "version": 3
   },
   "file_extension": ".py",
   "mimetype": "text/x-python",
   "name": "python",
   "nbconvert_exporter": "python",
   "pygments_lexer": "ipython3",
   "version": "3.7.11"
  }
 },
 "nbformat": 4,
 "nbformat_minor": 4
}
